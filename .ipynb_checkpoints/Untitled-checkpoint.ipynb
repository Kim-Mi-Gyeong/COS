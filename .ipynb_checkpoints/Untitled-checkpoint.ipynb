{
 "cells": [
  {
   "cell_type": "code",
   "execution_count": 13,
   "id": "3f059c2e",
   "metadata": {},
   "outputs": [
    {
     "name": "stdout",
     "output_type": "stream",
     "text": [
      "Cos_data set_v2.2csv.csv 데이터:\n",
      "          no brand_name                                  product_name  \\\n",
      "2722  2520.0        시드몰                                       시드물 에코백   \n",
      "2723  2521.0        시드몰                        20파이/24파이 에센스펌프 [선택구입]   \n",
      "2724  2522.0        시드몰                     사춘기 아들, 딸 PICK 세트  10% 할인   \n",
      "2725  2523.0        시드몰  [손상모,반곱슬,부스스한머리] 매직 스트레이트 트리트먼트 헤어 미스트 200ml   \n",
      "2726  2524.0        시드몰                                 펌프 불량 시 교체 안내   \n",
      "\n",
      "                            description     price  \\\n",
      "2722          친환경 국산 광목 사용+지구를 위한 작은 실천  \\12,900원   \n",
      "2723    20파이/24파이 크기의 에센스 펌프 2타입 중 선택구입   \\1,000원   \n",
      "2724        사랑하는 아들, 딸 피부  고민을 위한 꿀팁 세트  \\59,580원   \n",
      "2725         무향 노워시! 고영양 데일리 노워시 헤어 미스트  \\16,200원   \n",
      "2726  펌프 불량으로  불편을 느끼셨다면  상담실로 문의 주세요^^       \\0원   \n",
      "\n",
      "                                              image_url  \\\n",
      "2722  https://www.sidmool.com/shopimages/sidmool/022...   \n",
      "2723  https://www.sidmool.com/shopimages/sidmool/022...   \n",
      "2724  https://www.sidmool.com/shopimages/sidmool/014...   \n",
      "2725  https://www.sidmool.com/shopimages/sidmool/022...   \n",
      "2726  https://www.sidmool.com/shopimages/sidmool/022...   \n",
      "\n",
      "                                             detail_url  \\\n",
      "2722  https://www.sidmool.com/shop/shopdetail.html?b...   \n",
      "2723  https://www.sidmool.com/shop/shopdetail.html?b...   \n",
      "2724  https://www.sidmool.com/shop/shopdetail.html?b...   \n",
      "2725  https://www.sidmool.com/shop/shopdetail.html?b...   \n",
      "2726  https://www.sidmool.com/shop/shopdetail.html?b...   \n",
      "\n",
      "                                            ingredients  \n",
      "2722                                                NaN  \n",
      "2723                                                NaN  \n",
      "2724                                                NaN  \n",
      "2725  정제수,프로필렌글라이콜,코코-카프릴레이트/카프레이트,세테아릴알코올,베타인,아모다이메...  \n",
      "2726                                                NaN  \n",
      "\n",
      "paulas_choice_ingredients_all (1).csv 데이터:\n",
      "          ingredients                                        description  \\\n",
      "16265          히비스커스잎  피부컨디셔닝제. 해당 성분의 연구내용이 검토 전이기 때문에 아직 성분 등급을 매기지...   \n",
      "16266  히비스쿠스 마키노이잎추출물  피부컨디셔닝제. 해당 성분의 연구내용이 검토 전이기 때문에 아직 성분 등급을 매기지...   \n",
      "16267              히솝                     이 식물의 꽃, 잎, 줄기는 항산화 물질의 공급원이다.   \n",
      "16268           히솝잎오일  피부컨디셔닝제. 해당 성분의 연구내용이 검토 전이기 때문에 아직 성분 등급을 매기지...   \n",
      "16269           히솝추출물  착향제, 토닉. 해당 성분의 연구내용이 검토 전이기 때문에 아직 성분 등급을 매기지...   \n",
      "\n",
      "         grade efficacy  \n",
      "16265  평가보류 성분    효과 없음  \n",
      "16266  평가보류 성분    효과 없음  \n",
      "16267       좋음    안티에이징  \n",
      "16268  평가보류 성분    효과 없음  \n",
      "16269  평가보류 성분    효과 없음  \n"
     ]
    }
   ],
   "source": [
    "import pandas as pd\n",
    "\n",
    "# 파일 경로 설정\n",
    "cos_data_file = r'c:\\projects\\cosmetic\\cos\\data\\Cos_data set_v2.2.csv'\n",
    "paulas_choice_file = r'c:\\projects\\cosmetic\\cos\\data\\paulas_choice_ingredients_all (1).csv'\n",
    "\n",
    "# CSV 파일을 데이터프레임으로 불러오기 (인코딩 문제 해결을 위한 방법)\n",
    "cos_data_df = pd.read_csv(cos_data_file, encoding='utf-8-sig')  # 또는 'euc-kr' 시도\n",
    "paulas_choice_df = pd.read_csv(paulas_choice_file, encoding='utf-8-sig')\n",
    "\n",
    "# 데이터프레임 확인 (상위 5개 행 출력)\n",
    "print(\"Cos_data set_v2.2csv.csv 데이터:\")\n",
    "print(cos_data_df.tail())\n",
    "\n",
    "print(\"\\npaulas_choice_ingredients_all (1).csv 데이터:\")\n",
    "print(paulas_choice_df.tail())\n"
   ]
  },
  {
   "cell_type": "code",
   "execution_count": 12,
   "id": "8463a496",
   "metadata": {},
   "outputs": [
    {
     "name": "stdout",
     "output_type": "stream",
     "text": [
      "Cos_data set_v2.2csv.csv 기본 정보:\n",
      "<class 'pandas.core.frame.DataFrame'>\n",
      "RangeIndex: 2727 entries, 0 to 2726\n",
      "Data columns (total 8 columns):\n",
      " #   Column        Non-Null Count  Dtype  \n",
      "---  ------        --------------  -----  \n",
      " 0   no            2722 non-null   float64\n",
      " 1   brand_name    2713 non-null   object \n",
      " 2   product_name  2722 non-null   object \n",
      " 3   description   1154 non-null   object \n",
      " 4   price         2722 non-null   object \n",
      " 5   image_url     2722 non-null   object \n",
      " 6   detail_url    2721 non-null   object \n",
      " 7   ingredients   2632 non-null   object \n",
      "dtypes: float64(1), object(7)\n",
      "memory usage: 170.6+ KB\n",
      "None\n",
      "    no brand_name                 product_name                 description  \\\n",
      "0  1.0        메디힐    [홀리데이 에디션] 콜라겐 채움 패드 100매  (한정판) 저분자 콜라겐을 꽉 꽉 담아 탱탱하게   \n",
      "1  2.0        메디힐  [홀리데이 에디션] 비타마이드 잡티 패드 100매      (한정판) 칙칙한 피부를 투명하고 환하게   \n",
      "2  3.0        메디힐            블랙헤드 멜팅 클리어 코팩 4매       [피지스패출러] 녹여서 자극 없이 쓱삭   \n",
      "3  4.0        메디힐             수분 유브이컷 선크림 50ml     #24시간철벽차단 #땀에도강한 #수분선크림   \n",
      "4  5.0        메디힐     더마 시너지 랩핑 마스크 [잡티결광] 10매            #나이아신아마이드 #글루타치온   \n",
      "\n",
      "    price                                          image_url  \\\n",
      "0  17,900  https://www.medihealshop.com//www.medihealshop...   \n",
      "1  17,900  https://www.medihealshop.com//www.medihealshop...   \n",
      "2  11,900  https://www.medihealshop.com//www.medihealshop...   \n",
      "3  13,900  https://www.medihealshop.com//www.medihealshop...   \n",
      "4  19,900  https://www.medihealshop.com//www.medihealshop...   \n",
      "\n",
      "                                          detail_url  \\\n",
      "0  https://www.medihealshop.com/product/홀리데이-에디션-...   \n",
      "1  https://www.medihealshop.com/product/홀리데이-에디션-...   \n",
      "2  https://www.medihealshop.com/product/블랙헤드-멜팅-클...   \n",
      "3  https://www.medihealshop.com/product/수분-유브이컷-선...   \n",
      "4  https://www.medihealshop.com/product/더마-시너지-랩핑...   \n",
      "\n",
      "                                         ingredients  \n",
      "0  정제수, 글리세린, 글리세레스-26, 1,2-헥산다이올, 다이페닐다이메티콘, 트라이...  \n",
      "1  정제수, 다이프로필렌글라이콜, 나이아신아마이드, 글리세레스-26, 1,2-헥산다이올...  \n",
      "2  [STEP1] 정제수, 글리세린, 1,2-헥산다이올, 영지버섯추출물, 트로메타민, ...  \n",
      "3  정제수, 프로판다이올, 부틸렌글라이콜, 다이부틸아디페이트, 비스-에칠헥실옥시페놀메톡...  \n",
      "4  정제수, 나이아신아마이드, 글리세린, 프로판다이올, 다이프로필렌글라이콜, 부틸렌글라...  \n",
      "\n",
      "paulas_choice_ingredients_all (1).csv 기본 정보:\n",
      "<class 'pandas.core.frame.DataFrame'>\n",
      "RangeIndex: 16270 entries, 0 to 16269\n",
      "Data columns (total 4 columns):\n",
      " #   Column       Non-Null Count  Dtype \n",
      "---  ------       --------------  ----- \n",
      " 0   ingredients  16266 non-null  object\n",
      " 1   description  16252 non-null  object\n",
      " 2   grade        16266 non-null  object\n",
      " 3   efficacy     16270 non-null  object\n",
      "dtypes: object(4)\n",
      "memory usage: 508.6+ KB\n",
      "None\n",
      "                  ingredients  \\\n",
      "0  (아몬드/보리지/아마/올리브)애씨드/글리세라이즈   \n",
      "1                  1,10-데칸다이올   \n",
      "2                   1,2-부탄다이올   \n",
      "3                   1,2-헥산다이올   \n",
      "4            1,2-헥산다이일다이카프레이트   \n",
      "\n",
      "                                         description    grade      efficacy  \n",
      "0  아몬드, 보리지, 아마, 올리브를 포함한 여러가지 무향의 식물성 오일에서 비롯된 지...      훌륭함  수분 공급, 안티에이징  \n",
      "1   용매. 해당 성분의 연구내용이 검토 전이기 때문에 아직 성분 등급을 매기지 않았습니다.  평가보류 성분         효과 없음  \n",
      "2  보습제(습윤제), 피부컨디셔닝제, 용매, 점도조절제. 해당 성분의 연구내용이 검토 ...  평가보류 성분         효과 없음  \n",
      "3                       고분자 글리콜로 알려진 물질 부류에 속하는 방부제.       좋음         수분 공급  \n",
      "4  피부톤케어. 해당 성분의 연구내용이 검토 전이기 때문에 아직 성분 등급을 매기지 않...  평가보류 성분         효과 없음  \n",
      "\n",
      "no 컬럼의 데이터:\n",
      "    no\n",
      "0  1.0\n",
      "1  2.0\n",
      "2  3.0\n",
      "3  4.0\n",
      "4  5.0\n",
      "\n",
      "brand_name 컬럼의 데이터:\n",
      "  brand_name\n",
      "0        메디힐\n",
      "1        메디힐\n",
      "2        메디힐\n",
      "3        메디힐\n",
      "4        메디힐\n",
      "\n",
      "product_name 컬럼의 데이터:\n",
      "                  product_name\n",
      "0    [홀리데이 에디션] 콜라겐 채움 패드 100매\n",
      "1  [홀리데이 에디션] 비타마이드 잡티 패드 100매\n",
      "2            블랙헤드 멜팅 클리어 코팩 4매\n",
      "3             수분 유브이컷 선크림 50ml\n",
      "4     더마 시너지 랩핑 마스크 [잡티결광] 10매\n",
      "\n",
      "description 컬럼의 데이터:\n",
      "                  description\n",
      "0  (한정판) 저분자 콜라겐을 꽉 꽉 담아 탱탱하게\n",
      "1      (한정판) 칙칙한 피부를 투명하고 환하게\n",
      "2       [피지스패출러] 녹여서 자극 없이 쓱삭\n",
      "3     #24시간철벽차단 #땀에도강한 #수분선크림\n",
      "4            #나이아신아마이드 #글루타치온\n",
      "\n",
      "price 컬럼의 데이터:\n",
      "    price\n",
      "0  17,900\n",
      "1  17,900\n",
      "2  11,900\n",
      "3  13,900\n",
      "4  19,900\n",
      "\n",
      "image_url 컬럼의 데이터:\n",
      "                                           image_url\n",
      "0  https://www.medihealshop.com//www.medihealshop...\n",
      "1  https://www.medihealshop.com//www.medihealshop...\n",
      "2  https://www.medihealshop.com//www.medihealshop...\n",
      "3  https://www.medihealshop.com//www.medihealshop...\n",
      "4  https://www.medihealshop.com//www.medihealshop...\n",
      "\n",
      "detail_url 컬럼의 데이터:\n",
      "                                          detail_url\n",
      "0  https://www.medihealshop.com/product/홀리데이-에디션-...\n",
      "1  https://www.medihealshop.com/product/홀리데이-에디션-...\n",
      "2  https://www.medihealshop.com/product/블랙헤드-멜팅-클...\n",
      "3  https://www.medihealshop.com/product/수분-유브이컷-선...\n",
      "4  https://www.medihealshop.com/product/더마-시너지-랩핑...\n",
      "\n",
      "ingredients 컬럼의 데이터:\n",
      "                                         ingredients\n",
      "0  정제수, 글리세린, 글리세레스-26, 1,2-헥산다이올, 다이페닐다이메티콘, 트라이...\n",
      "1  정제수, 다이프로필렌글라이콜, 나이아신아마이드, 글리세레스-26, 1,2-헥산다이올...\n",
      "2  [STEP1] 정제수, 글리세린, 1,2-헥산다이올, 영지버섯추출물, 트로메타민, ...\n",
      "3  정제수, 프로판다이올, 부틸렌글라이콜, 다이부틸아디페이트, 비스-에칠헥실옥시페놀메톡...\n",
      "4  정제수, 나이아신아마이드, 글리세린, 프로판다이올, 다이프로필렌글라이콜, 부틸렌글라...\n",
      "\n",
      "ingredients 컬럼의 데이터:\n",
      "                  ingredients\n",
      "0  (아몬드/보리지/아마/올리브)애씨드/글리세라이즈\n",
      "1                  1,10-데칸다이올\n",
      "2                   1,2-부탄다이올\n",
      "3                   1,2-헥산다이올\n",
      "4            1,2-헥산다이일다이카프레이트\n",
      "\n",
      "description 컬럼의 데이터:\n",
      "                                         description\n",
      "0  아몬드, 보리지, 아마, 올리브를 포함한 여러가지 무향의 식물성 오일에서 비롯된 지...\n",
      "1   용매. 해당 성분의 연구내용이 검토 전이기 때문에 아직 성분 등급을 매기지 않았습니다.\n",
      "2  보습제(습윤제), 피부컨디셔닝제, 용매, 점도조절제. 해당 성분의 연구내용이 검토 ...\n",
      "3                       고분자 글리콜로 알려진 물질 부류에 속하는 방부제.\n",
      "4  피부톤케어. 해당 성분의 연구내용이 검토 전이기 때문에 아직 성분 등급을 매기지 않...\n",
      "\n",
      "grade 컬럼의 데이터:\n",
      "     grade\n",
      "0      훌륭함\n",
      "1  평가보류 성분\n",
      "2  평가보류 성분\n",
      "3       좋음\n",
      "4  평가보류 성분\n",
      "\n",
      "efficacy 컬럼의 데이터:\n",
      "       efficacy\n",
      "0  수분 공급, 안티에이징\n",
      "1         효과 없음\n",
      "2         효과 없음\n",
      "3         수분 공급\n",
      "4         효과 없음\n"
     ]
    }
   ],
   "source": [
    "import pandas as pd\n",
    "\n",
    "# 파일 경로 설정\n",
    "cos_data_file = r'c:\\projects\\cosmetic\\cos\\data\\Cos_data set_v2.2.csv'\n",
    "paulas_choice_file = r'c:\\projects\\cosmetic\\cos\\data\\paulas_choice_ingredients_all (1).csv'\n",
    "\n",
    "# CSV 파일을 데이터프레임으로 불러오기 (인코딩 문제 해결을 위한 방법)\n",
    "cos_data_df = pd.read_csv(cos_data_file, encoding='utf-8-sig')  # 또는 'euc-kr' 시도\n",
    "paulas_choice_df = pd.read_csv(paulas_choice_file, encoding='utf-8-sig')\n",
    "\n",
    "# 각 파일의 기본 정보 출력\n",
    "print(\"Cos_data set_v2.2csv.csv 기본 정보:\")\n",
    "print(cos_data_df.info())  # 데이터프레임의 컬럼 정보 출력\n",
    "print(cos_data_df.head())  # 데이터프레임의 상위 5개 데이터 출력\n",
    "\n",
    "print(\"\\npaulas_choice_ingredients_all (1).csv 기본 정보:\")\n",
    "print(paulas_choice_df.info())  # 데이터프레임의 컬럼 정보 출력\n",
    "print(paulas_choice_df.head())  # 데이터프레임의 상위 5개 데이터 출력\n",
    "\n",
    "# 각 컬럼 별로 데이터프레임화\n",
    "cos_data_columns = cos_data_df.columns\n",
    "paulas_choice_columns = paulas_choice_df.columns\n",
    "\n",
    "# 각 컬럼별로 데이터프레임 생성\n",
    "for col in cos_data_columns:\n",
    "    print(f\"\\n{col} 컬럼의 데이터:\")\n",
    "    print(cos_data_df[[col]].head())  # 각 컬럼별 데이터 출력\n",
    "\n",
    "for col in paulas_choice_columns:\n",
    "    print(f\"\\n{col} 컬럼의 데이터:\")\n",
    "    print(paulas_choice_df[[col]].head())  # 각 컬럼별 데이터 출력\n"
   ]
  },
  {
   "cell_type": "code",
   "execution_count": 11,
   "id": "71c1c312",
   "metadata": {},
   "outputs": [
    {
     "name": "stdout",
     "output_type": "stream",
     "text": [
      "Cos_data set_v2.2csv.csv 결측치 정보:\n",
      "no                 5\n",
      "brand_name        14\n",
      "product_name       5\n",
      "description     1573\n",
      "price              5\n",
      "image_url          5\n",
      "detail_url         6\n",
      "ingredients       95\n",
      "dtype: int64\n",
      "\n",
      "paulas_choice_ingredients_all (1).csv 결측치 정보:\n",
      "ingredients     4\n",
      "description    18\n",
      "grade           4\n",
      "efficacy        0\n",
      "dtype: int64\n"
     ]
    }
   ],
   "source": [
    "import pandas as pd\n",
    "\n",
    "# 파일 경로 설정\n",
    "cos_data_file = r'c:\\projects\\cosmetic\\cos\\data\\Cos_data set_v2.2.csv'\n",
    "paulas_choice_file = r'c:\\projects\\cosmetic\\cos\\data\\paulas_choice_ingredients_all (1).csv'\n",
    "\n",
    "# CSV 파일을 데이터프레임으로 불러오기 (인코딩 문제 해결을 위한 방법)\n",
    "cos_data_df = pd.read_csv(cos_data_file, encoding='utf-8-sig')  # 또는 'euc-kr' 시도\n",
    "paulas_choice_df = pd.read_csv(paulas_choice_file, encoding='utf-8-sig')\n",
    "\n",
    "# 각 파일의 결측치 개수 확인\n",
    "print(\"Cos_data set_v2.2csv.csv 결측치 정보:\")\n",
    "print(cos_data_df.isnull().sum())  # 각 컬럼별 결측치 개수\n",
    "\n",
    "print(\"\\npaulas_choice_ingredients_all (1).csv 결측치 정보:\")\n",
    "print(paulas_choice_df.isnull().sum())  # 각 컬럼별 결측치 개수\n"
   ]
  },
  {
   "cell_type": "code",
   "execution_count": 15,
   "id": "7f12ee58",
   "metadata": {},
   "outputs": [
    {
     "data": {
      "text/html": [
       "<div>\n",
       "<style scoped>\n",
       "    .dataframe tbody tr th:only-of-type {\n",
       "        vertical-align: middle;\n",
       "    }\n",
       "\n",
       "    .dataframe tbody tr th {\n",
       "        vertical-align: top;\n",
       "    }\n",
       "\n",
       "    .dataframe thead th {\n",
       "        text-align: right;\n",
       "    }\n",
       "</style>\n",
       "<table border=\"1\" class=\"dataframe\">\n",
       "  <thead>\n",
       "    <tr style=\"text-align: right;\">\n",
       "      <th></th>\n",
       "      <th>Column</th>\n",
       "      <th>Missing Values</th>\n",
       "    </tr>\n",
       "  </thead>\n",
       "  <tbody>\n",
       "    <tr>\n",
       "      <th>0</th>\n",
       "      <td>no</td>\n",
       "      <td>5</td>\n",
       "    </tr>\n",
       "    <tr>\n",
       "      <th>1</th>\n",
       "      <td>brand_name</td>\n",
       "      <td>14</td>\n",
       "    </tr>\n",
       "    <tr>\n",
       "      <th>2</th>\n",
       "      <td>product_name</td>\n",
       "      <td>5</td>\n",
       "    </tr>\n",
       "    <tr>\n",
       "      <th>3</th>\n",
       "      <td>description</td>\n",
       "      <td>1573</td>\n",
       "    </tr>\n",
       "    <tr>\n",
       "      <th>4</th>\n",
       "      <td>price</td>\n",
       "      <td>5</td>\n",
       "    </tr>\n",
       "    <tr>\n",
       "      <th>5</th>\n",
       "      <td>image_url</td>\n",
       "      <td>5</td>\n",
       "    </tr>\n",
       "    <tr>\n",
       "      <th>6</th>\n",
       "      <td>detail_url</td>\n",
       "      <td>6</td>\n",
       "    </tr>\n",
       "    <tr>\n",
       "      <th>7</th>\n",
       "      <td>ingredients</td>\n",
       "      <td>95</td>\n",
       "    </tr>\n",
       "  </tbody>\n",
       "</table>\n",
       "</div>"
      ],
      "text/plain": [
       "         Column  Missing Values\n",
       "0            no               5\n",
       "1    brand_name              14\n",
       "2  product_name               5\n",
       "3   description            1573\n",
       "4         price               5\n",
       "5     image_url               5\n",
       "6    detail_url               6\n",
       "7   ingredients              95"
      ]
     },
     "execution_count": 15,
     "metadata": {},
     "output_type": "execute_result"
    }
   ],
   "source": [
    "import pandas as pd\n",
    "\n",
    "# 파일 경로 설정\n",
    "cos_data_file = r'c:\\projects\\cosmetic\\cos\\data\\Cos_data set_v2.2.csv'\n",
    "\n",
    "# CSV 파일을 데이터프레임으로 불러오기 (인코딩 문제 해결을 위한 방법)\n",
    "cos_data_df = pd.read_csv(cos_data_file, encoding='utf-8-sig')  # 또는 'euc-kr' 시도\n",
    "\n",
    "# 결측치 정보 전체를 데이터프레임으로 변환\n",
    "missing_data = cos_data_df.isnull().sum()\n",
    "\n",
    "# 결측치가 있는 컬럼만 필터링\n",
    "missing_data_df = missing_data[missing_data > 0].reset_index()\n",
    "missing_data_df.columns = ['Column', 'Missing Values']\n",
    "\n",
    "# 결측치 정보 출력\n",
    "missing_data_df\n"
   ]
  },
  {
   "cell_type": "code",
   "execution_count": 24,
   "id": "929c8a10",
   "metadata": {},
   "outputs": [
    {
     "name": "stdout",
     "output_type": "stream",
     "text": [
      "Requirement already satisfied: faiss-cpu in c:\\users\\human\\anaconda3\\lib\\site-packages (1.9.0.post1)\n",
      "Requirement already satisfied: pandas in c:\\users\\human\\anaconda3\\lib\\site-packages (2.2.3)\n",
      "Requirement already satisfied: sentence-transformers in c:\\users\\human\\anaconda3\\lib\\site-packages (3.4.0)\n",
      "Requirement already satisfied: numpy<3.0,>=1.25.0 in c:\\users\\human\\anaconda3\\lib\\site-packages (from faiss-cpu) (1.26.4)\n",
      "Requirement already satisfied: packaging in c:\\users\\human\\anaconda3\\lib\\site-packages (from faiss-cpu) (24.1)\n",
      "Requirement already satisfied: python-dateutil>=2.8.2 in c:\\users\\human\\anaconda3\\lib\\site-packages (from pandas) (2.9.0.post0)\n",
      "Requirement already satisfied: pytz>=2020.1 in c:\\users\\human\\anaconda3\\lib\\site-packages (from pandas) (2024.1)\n",
      "Requirement already satisfied: tzdata>=2022.7 in c:\\users\\human\\anaconda3\\lib\\site-packages (from pandas) (2023.3)\n",
      "Requirement already satisfied: transformers<5.0.0,>=4.41.0 in c:\\users\\human\\anaconda3\\lib\\site-packages (from sentence-transformers) (4.48.1)\n",
      "Requirement already satisfied: tqdm in c:\\users\\human\\anaconda3\\lib\\site-packages (from sentence-transformers) (4.66.5)\n",
      "Requirement already satisfied: torch>=1.11.0 in c:\\users\\human\\anaconda3\\lib\\site-packages (from sentence-transformers) (2.5.1)\n",
      "Requirement already satisfied: scikit-learn in c:\\users\\human\\anaconda3\\lib\\site-packages (from sentence-transformers) (1.5.1)\n",
      "Requirement already satisfied: scipy in c:\\users\\human\\anaconda3\\lib\\site-packages (from sentence-transformers) (1.13.1)\n",
      "Requirement already satisfied: huggingface-hub>=0.20.0 in c:\\users\\human\\anaconda3\\lib\\site-packages (from sentence-transformers) (0.27.1)\n",
      "Requirement already satisfied: Pillow in c:\\users\\human\\anaconda3\\lib\\site-packages (from sentence-transformers) (10.4.0)\n",
      "Requirement already satisfied: filelock in c:\\users\\human\\anaconda3\\lib\\site-packages (from huggingface-hub>=0.20.0->sentence-transformers) (3.13.1)\n",
      "Requirement already satisfied: fsspec>=2023.5.0 in c:\\users\\human\\anaconda3\\lib\\site-packages (from huggingface-hub>=0.20.0->sentence-transformers) (2024.6.1)\n",
      "Requirement already satisfied: pyyaml>=5.1 in c:\\users\\human\\anaconda3\\lib\\site-packages (from huggingface-hub>=0.20.0->sentence-transformers) (6.0.1)\n",
      "Requirement already satisfied: requests in c:\\users\\human\\anaconda3\\lib\\site-packages (from huggingface-hub>=0.20.0->sentence-transformers) (2.32.3)\n",
      "Requirement already satisfied: typing-extensions>=3.7.4.3 in c:\\users\\human\\anaconda3\\lib\\site-packages (from huggingface-hub>=0.20.0->sentence-transformers) (4.11.0)\n",
      "Requirement already satisfied: six>=1.5 in c:\\users\\human\\anaconda3\\lib\\site-packages (from python-dateutil>=2.8.2->pandas) (1.16.0)\n",
      "Requirement already satisfied: networkx in c:\\users\\human\\anaconda3\\lib\\site-packages (from torch>=1.11.0->sentence-transformers) (3.3)\n",
      "Requirement already satisfied: jinja2 in c:\\users\\human\\anaconda3\\lib\\site-packages (from torch>=1.11.0->sentence-transformers) (3.1.4)\n",
      "Requirement already satisfied: setuptools in c:\\users\\human\\anaconda3\\lib\\site-packages (from torch>=1.11.0->sentence-transformers) (75.1.0)\n",
      "Requirement already satisfied: sympy==1.13.1 in c:\\users\\human\\anaconda3\\lib\\site-packages (from torch>=1.11.0->sentence-transformers) (1.13.1)\n",
      "Requirement already satisfied: mpmath<1.4,>=1.1.0 in c:\\users\\human\\anaconda3\\lib\\site-packages (from sympy==1.13.1->torch>=1.11.0->sentence-transformers) (1.3.0)\n",
      "Requirement already satisfied: colorama in c:\\users\\human\\anaconda3\\lib\\site-packages (from tqdm->sentence-transformers) (0.4.6)\n",
      "Requirement already satisfied: regex!=2019.12.17 in c:\\users\\human\\anaconda3\\lib\\site-packages (from transformers<5.0.0,>=4.41.0->sentence-transformers) (2024.9.11)\n",
      "Requirement already satisfied: tokenizers<0.22,>=0.21 in c:\\users\\human\\anaconda3\\lib\\site-packages (from transformers<5.0.0,>=4.41.0->sentence-transformers) (0.21.0)\n",
      "Requirement already satisfied: safetensors>=0.4.1 in c:\\users\\human\\anaconda3\\lib\\site-packages (from transformers<5.0.0,>=4.41.0->sentence-transformers) (0.5.2)\n",
      "Requirement already satisfied: joblib>=1.2.0 in c:\\users\\human\\anaconda3\\lib\\site-packages (from scikit-learn->sentence-transformers) (1.4.2)\n",
      "Requirement already satisfied: threadpoolctl>=3.1.0 in c:\\users\\human\\anaconda3\\lib\\site-packages (from scikit-learn->sentence-transformers) (3.5.0)\n",
      "Requirement already satisfied: MarkupSafe>=2.0 in c:\\users\\human\\anaconda3\\lib\\site-packages (from jinja2->torch>=1.11.0->sentence-transformers) (2.1.3)\n",
      "Requirement already satisfied: charset-normalizer<4,>=2 in c:\\users\\human\\anaconda3\\lib\\site-packages (from requests->huggingface-hub>=0.20.0->sentence-transformers) (3.3.2)\n",
      "Requirement already satisfied: idna<4,>=2.5 in c:\\users\\human\\anaconda3\\lib\\site-packages (from requests->huggingface-hub>=0.20.0->sentence-transformers) (3.7)\n",
      "Requirement already satisfied: urllib3<3,>=1.21.1 in c:\\users\\human\\anaconda3\\lib\\site-packages (from requests->huggingface-hub>=0.20.0->sentence-transformers) (2.2.3)\n",
      "Requirement already satisfied: certifi>=2017.4.17 in c:\\users\\human\\anaconda3\\lib\\site-packages (from requests->huggingface-hub>=0.20.0->sentence-transformers) (2025.1.31)\n",
      "Note: you may need to restart the kernel to use updated packages.\n"
     ]
    }
   ],
   "source": [
    "pip install faiss-cpu pandas sentence-transformers"
   ]
  },
  {
   "cell_type": "code",
   "execution_count": null,
   "id": "66d40a27",
   "metadata": {},
   "outputs": [
    {
     "name": "stdout",
     "output_type": "stream",
     "text": [
      "WARNING:tensorflow:From c:\\Users\\human\\anaconda3\\Lib\\site-packages\\tf_keras\\src\\losses.py:2976: The name tf.losses.sparse_softmax_cross_entropy is deprecated. Please use tf.compat.v1.losses.sparse_softmax_cross_entropy instead.\n",
      "\n"
     ]
    },
    {
     "data": {
      "application/vnd.jupyter.widget-view+json": {
       "model_id": "2237e7f41766468e8ab8e868c9a036a3",
       "version_major": 2,
       "version_minor": 0
      },
      "text/plain": [
       "modules.json:   0%|          | 0.00/229 [00:00<?, ?B/s]"
      ]
     },
     "metadata": {},
     "output_type": "display_data"
    },
    {
     "name": "stderr",
     "output_type": "stream",
     "text": [
      "c:\\Users\\human\\anaconda3\\Lib\\site-packages\\huggingface_hub\\file_download.py:140: UserWarning: `huggingface_hub` cache-system uses symlinks by default to efficiently store duplicated files but your machine does not support them in C:\\Users\\human\\.cache\\huggingface\\hub\\models--sentence-transformers--paraphrase-MiniLM-L6-v2. Caching files will still work but in a degraded version that might require more space on your disk. This warning can be disabled by setting the `HF_HUB_DISABLE_SYMLINKS_WARNING` environment variable. For more details, see https://huggingface.co/docs/huggingface_hub/how-to-cache#limitations.\n",
      "To support symlinks on Windows, you either need to activate Developer Mode or to run Python as an administrator. In order to activate developer mode, see this article: https://docs.microsoft.com/en-us/windows/apps/get-started/enable-your-device-for-development\n",
      "  warnings.warn(message)\n"
     ]
    },
    {
     "data": {
      "application/vnd.jupyter.widget-view+json": {
       "model_id": "b642e8d3cd8f44a88455d0fb830e5b59",
       "version_major": 2,
       "version_minor": 0
      },
      "text/plain": [
       "config_sentence_transformers.json:   0%|          | 0.00/122 [00:00<?, ?B/s]"
      ]
     },
     "metadata": {},
     "output_type": "display_data"
    },
    {
     "data": {
      "application/vnd.jupyter.widget-view+json": {
       "model_id": "4c44f8de1f6e4306b596bf625dc38bbe",
       "version_major": 2,
       "version_minor": 0
      },
      "text/plain": [
       "README.md:   0%|          | 0.00/3.73k [00:00<?, ?B/s]"
      ]
     },
     "metadata": {},
     "output_type": "display_data"
    },
    {
     "data": {
      "application/vnd.jupyter.widget-view+json": {
       "model_id": "7234b0d3ee1342298d8fff7712f9e09b",
       "version_major": 2,
       "version_minor": 0
      },
      "text/plain": [
       "sentence_bert_config.json:   0%|          | 0.00/53.0 [00:00<?, ?B/s]"
      ]
     },
     "metadata": {},
     "output_type": "display_data"
    },
    {
     "data": {
      "application/vnd.jupyter.widget-view+json": {
       "model_id": "a614cf42b9014b9097d3798c8b0425c4",
       "version_major": 2,
       "version_minor": 0
      },
      "text/plain": [
       "config.json:   0%|          | 0.00/629 [00:00<?, ?B/s]"
      ]
     },
     "metadata": {},
     "output_type": "display_data"
    },
    {
     "data": {
      "application/vnd.jupyter.widget-view+json": {
       "model_id": "8485380fe4f743e0a744fab4a414df7a",
       "version_major": 2,
       "version_minor": 0
      },
      "text/plain": [
       "model.safetensors:   0%|          | 0.00/90.9M [00:00<?, ?B/s]"
      ]
     },
     "metadata": {},
     "output_type": "display_data"
    },
    {
     "data": {
      "application/vnd.jupyter.widget-view+json": {
       "model_id": "31ff2c34fece49d4b44995ef214057e9",
       "version_major": 2,
       "version_minor": 0
      },
      "text/plain": [
       "tokenizer_config.json:   0%|          | 0.00/314 [00:00<?, ?B/s]"
      ]
     },
     "metadata": {},
     "output_type": "display_data"
    },
    {
     "data": {
      "application/vnd.jupyter.widget-view+json": {
       "model_id": "39bd4a69ec134ac5932d99342f6243b8",
       "version_major": 2,
       "version_minor": 0
      },
      "text/plain": [
       "vocab.txt:   0%|          | 0.00/232k [00:00<?, ?B/s]"
      ]
     },
     "metadata": {},
     "output_type": "display_data"
    },
    {
     "data": {
      "application/vnd.jupyter.widget-view+json": {
       "model_id": "39584360e4d248289fae3acd943ccb51",
       "version_major": 2,
       "version_minor": 0
      },
      "text/plain": [
       "tokenizer.json:   0%|          | 0.00/466k [00:00<?, ?B/s]"
      ]
     },
     "metadata": {},
     "output_type": "display_data"
    },
    {
     "data": {
      "application/vnd.jupyter.widget-view+json": {
       "model_id": "e52b389d9fc9405e90def3a04f64e04d",
       "version_major": 2,
       "version_minor": 0
      },
      "text/plain": [
       "special_tokens_map.json:   0%|          | 0.00/112 [00:00<?, ?B/s]"
      ]
     },
     "metadata": {},
     "output_type": "display_data"
    },
    {
     "data": {
      "application/vnd.jupyter.widget-view+json": {
       "model_id": "4b7680f264d5445f93bbf01bdda4dd0f",
       "version_major": 2,
       "version_minor": 0
      },
      "text/plain": [
       "1_Pooling/config.json:   0%|          | 0.00/190 [00:00<?, ?B/s]"
      ]
     },
     "metadata": {},
     "output_type": "display_data"
    },
    {
     "name": "stdout",
     "output_type": "stream",
     "text": [
      "Cos_data vectors in Faiss index: 2722\n",
      "Ingredients vectors in Faiss index: 16266\n"
     ]
    }
   ],
   "source": [
    "import pandas as pd\n",
    "from sentence_transformers import SentenceTransformer\n",
    "import faiss\n",
    "import numpy as np\n",
    "\n",
    "# 1. 데이터 로드\n",
    "cos_data_file = r'c:\\projects\\cosmetic\\cos\\data\\Cos_data set_v2.2.csv'\n",
    "ingredients_file = r'c:\\projects\\cosmetic\\cos\\data\\paulas_choice_ingredients_all (1).csv'\n",
    "\n",
    "cos_data_df = pd.read_csv(cos_data_file, encoding='utf-8-sig')\n",
    "ingredients_df = pd.read_csv(ingredients_file, encoding='utf-8-sig')\n",
    "\n",
    "# 2. 텍스트 데이터 벡터화 (SentenceTransformer 사용)\n",
    "# model = SentenceTransformer('paraphrase-MiniLM-L6-v2')\n",
    "\n",
    "model = SentenceTransformer('jhgan/ko-simcse-roberta-large')\n",
    "\n",
    "# cos_data_df에서 product_name 벡터화\n",
    "cos_data_embeddings = model.encode(cos_data_df['product_name'].dropna().tolist())\n",
    "\n",
    "# ingredients_df에서 ingredients 벡터화\n",
    "ingredients_embeddings = model.encode(ingredients_df['ingredients'].dropna().tolist())\n",
    "\n",
    "# 3. Faiss DB 초기화 (각각의 파일에 대해 별도의 인덱스 생성)\n",
    "cos_data_dimension = cos_data_embeddings.shape[1]  # Cos_data 벡터 차원\n",
    "ingredients_dimension = ingredients_embeddings.shape[1]  # Ingredients 벡터 차원\n",
    "\n",
    "# 두 개의 독립적인 인덱스 생성\n",
    "cos_data_index = faiss.IndexFlatL2(cos_data_dimension)  # Cos_data 인덱스\n",
    "# ingredients_index = faiss.IndexFlatL2(ingredients_dimension)  # Ingredients 인덱스\n",
    "\n",
    "# 4. 각 인덱스에 벡터 데이터 추가\n",
    "cos_data_index.add(np.array(cos_data_embeddings))  # Cos_data 인덱스에 추가\n",
    "# ingredients_index.add(np.array(ingredients_embeddings))  # Ingredients 인덱스에 추가\n",
    "\n",
    "# 5. Faiss DB에 저장된 벡터 수 확인\n",
    "print(f\"Cos_data vectors in Faiss index: {cos_data_index.ntotal}\")\n",
    "# print(f\"Ingredients vectors in Faiss index: {ingredients_index.ntotal}\")\n"
   ]
  },
  {
   "cell_type": "code",
   "execution_count": 42,
   "id": "8752768f",
   "metadata": {},
   "outputs": [
    {
     "data": {
      "text/plain": [
       "array([[ 0.34808367,  0.46795255, -0.06459752, ..., -0.6131803 ,\n",
       "         0.77795696,  0.76896286],\n",
       "       [ 0.40330452,  0.44421467, -0.0176777 , ..., -0.65444356,\n",
       "         0.7638378 ,  0.84332603],\n",
       "       [ 0.28175   ,  0.47046316,  0.10400051, ..., -0.5567164 ,\n",
       "         1.0114032 ,  0.75508565],\n",
       "       ...,\n",
       "       [ 0.31547755,  0.6133677 ,  0.2714716 , ..., -0.8803449 ,\n",
       "         0.78680813,  0.5045777 ],\n",
       "       [ 0.35186735,  0.4133834 ,  0.02486911, ..., -0.7402491 ,\n",
       "         0.5486673 ,  0.70169806],\n",
       "       [-0.08572778,  0.559968  ,  0.13222657, ..., -0.3851951 ,\n",
       "         0.8981573 ,  0.28732786]], dtype=float32)"
      ]
     },
     "execution_count": 42,
     "metadata": {},
     "output_type": "execute_result"
    }
   ],
   "source": [
    "cos_data_embeddings"
   ]
  },
  {
   "cell_type": "code",
   "execution_count": 27,
   "id": "37c5d977",
   "metadata": {},
   "outputs": [
    {
     "name": "stdout",
     "output_type": "stream",
     "text": [
      "Collecting tf-keras\n",
      "  Downloading tf_keras-2.18.0-py3-none-any.whl.metadata (1.6 kB)\n",
      "Requirement already satisfied: tensorflow<2.19,>=2.18 in c:\\users\\human\\anaconda3\\lib\\site-packages (from tf-keras) (2.18.0)\n",
      "Requirement already satisfied: tensorflow-intel==2.18.0 in c:\\users\\human\\anaconda3\\lib\\site-packages (from tensorflow<2.19,>=2.18->tf-keras) (2.18.0)\n",
      "Requirement already satisfied: absl-py>=1.0.0 in c:\\users\\human\\anaconda3\\lib\\site-packages (from tensorflow-intel==2.18.0->tensorflow<2.19,>=2.18->tf-keras) (2.1.0)\n",
      "Requirement already satisfied: astunparse>=1.6.0 in c:\\users\\human\\anaconda3\\lib\\site-packages (from tensorflow-intel==2.18.0->tensorflow<2.19,>=2.18->tf-keras) (1.6.3)\n",
      "Requirement already satisfied: flatbuffers>=24.3.25 in c:\\users\\human\\anaconda3\\lib\\site-packages (from tensorflow-intel==2.18.0->tensorflow<2.19,>=2.18->tf-keras) (24.12.23)\n",
      "Requirement already satisfied: gast!=0.5.0,!=0.5.1,!=0.5.2,>=0.2.1 in c:\\users\\human\\anaconda3\\lib\\site-packages (from tensorflow-intel==2.18.0->tensorflow<2.19,>=2.18->tf-keras) (0.6.0)\n",
      "Requirement already satisfied: google-pasta>=0.1.1 in c:\\users\\human\\anaconda3\\lib\\site-packages (from tensorflow-intel==2.18.0->tensorflow<2.19,>=2.18->tf-keras) (0.2.0)\n",
      "Requirement already satisfied: libclang>=13.0.0 in c:\\users\\human\\anaconda3\\lib\\site-packages (from tensorflow-intel==2.18.0->tensorflow<2.19,>=2.18->tf-keras) (18.1.1)\n",
      "Requirement already satisfied: opt-einsum>=2.3.2 in c:\\users\\human\\anaconda3\\lib\\site-packages (from tensorflow-intel==2.18.0->tensorflow<2.19,>=2.18->tf-keras) (3.4.0)\n",
      "Requirement already satisfied: packaging in c:\\users\\human\\anaconda3\\lib\\site-packages (from tensorflow-intel==2.18.0->tensorflow<2.19,>=2.18->tf-keras) (24.1)\n",
      "Requirement already satisfied: protobuf!=4.21.0,!=4.21.1,!=4.21.2,!=4.21.3,!=4.21.4,!=4.21.5,<6.0.0dev,>=3.20.3 in c:\\users\\human\\anaconda3\\lib\\site-packages (from tensorflow-intel==2.18.0->tensorflow<2.19,>=2.18->tf-keras) (5.29.3)\n",
      "Requirement already satisfied: requests<3,>=2.21.0 in c:\\users\\human\\anaconda3\\lib\\site-packages (from tensorflow-intel==2.18.0->tensorflow<2.19,>=2.18->tf-keras) (2.32.3)\n",
      "Requirement already satisfied: setuptools in c:\\users\\human\\anaconda3\\lib\\site-packages (from tensorflow-intel==2.18.0->tensorflow<2.19,>=2.18->tf-keras) (75.1.0)\n",
      "Requirement already satisfied: six>=1.12.0 in c:\\users\\human\\anaconda3\\lib\\site-packages (from tensorflow-intel==2.18.0->tensorflow<2.19,>=2.18->tf-keras) (1.16.0)\n",
      "Requirement already satisfied: termcolor>=1.1.0 in c:\\users\\human\\anaconda3\\lib\\site-packages (from tensorflow-intel==2.18.0->tensorflow<2.19,>=2.18->tf-keras) (2.5.0)\n",
      "Requirement already satisfied: typing-extensions>=3.6.6 in c:\\users\\human\\anaconda3\\lib\\site-packages (from tensorflow-intel==2.18.0->tensorflow<2.19,>=2.18->tf-keras) (4.11.0)\n",
      "Requirement already satisfied: wrapt>=1.11.0 in c:\\users\\human\\anaconda3\\lib\\site-packages (from tensorflow-intel==2.18.0->tensorflow<2.19,>=2.18->tf-keras) (1.14.1)\n",
      "Requirement already satisfied: grpcio<2.0,>=1.24.3 in c:\\users\\human\\anaconda3\\lib\\site-packages (from tensorflow-intel==2.18.0->tensorflow<2.19,>=2.18->tf-keras) (1.70.0)\n",
      "Requirement already satisfied: tensorboard<2.19,>=2.18 in c:\\users\\human\\anaconda3\\lib\\site-packages (from tensorflow-intel==2.18.0->tensorflow<2.19,>=2.18->tf-keras) (2.18.0)\n",
      "Requirement already satisfied: keras>=3.5.0 in c:\\users\\human\\anaconda3\\lib\\site-packages (from tensorflow-intel==2.18.0->tensorflow<2.19,>=2.18->tf-keras) (3.8.0)\n",
      "Requirement already satisfied: numpy<2.1.0,>=1.26.0 in c:\\users\\human\\anaconda3\\lib\\site-packages (from tensorflow-intel==2.18.0->tensorflow<2.19,>=2.18->tf-keras) (1.26.4)\n",
      "Requirement already satisfied: h5py>=3.11.0 in c:\\users\\human\\anaconda3\\lib\\site-packages (from tensorflow-intel==2.18.0->tensorflow<2.19,>=2.18->tf-keras) (3.11.0)\n",
      "Requirement already satisfied: ml-dtypes<0.5.0,>=0.4.0 in c:\\users\\human\\anaconda3\\lib\\site-packages (from tensorflow-intel==2.18.0->tensorflow<2.19,>=2.18->tf-keras) (0.4.1)\n",
      "Requirement already satisfied: wheel<1.0,>=0.23.0 in c:\\users\\human\\anaconda3\\lib\\site-packages (from astunparse>=1.6.0->tensorflow-intel==2.18.0->tensorflow<2.19,>=2.18->tf-keras) (0.44.0)\n",
      "Requirement already satisfied: rich in c:\\users\\human\\anaconda3\\lib\\site-packages (from keras>=3.5.0->tensorflow-intel==2.18.0->tensorflow<2.19,>=2.18->tf-keras) (13.7.1)\n",
      "Requirement already satisfied: namex in c:\\users\\human\\anaconda3\\lib\\site-packages (from keras>=3.5.0->tensorflow-intel==2.18.0->tensorflow<2.19,>=2.18->tf-keras) (0.0.8)\n",
      "Requirement already satisfied: optree in c:\\users\\human\\anaconda3\\lib\\site-packages (from keras>=3.5.0->tensorflow-intel==2.18.0->tensorflow<2.19,>=2.18->tf-keras) (0.13.1)\n",
      "Requirement already satisfied: charset-normalizer<4,>=2 in c:\\users\\human\\anaconda3\\lib\\site-packages (from requests<3,>=2.21.0->tensorflow-intel==2.18.0->tensorflow<2.19,>=2.18->tf-keras) (3.3.2)\n",
      "Requirement already satisfied: idna<4,>=2.5 in c:\\users\\human\\anaconda3\\lib\\site-packages (from requests<3,>=2.21.0->tensorflow-intel==2.18.0->tensorflow<2.19,>=2.18->tf-keras) (3.7)\n",
      "Requirement already satisfied: urllib3<3,>=1.21.1 in c:\\users\\human\\anaconda3\\lib\\site-packages (from requests<3,>=2.21.0->tensorflow-intel==2.18.0->tensorflow<2.19,>=2.18->tf-keras) (2.2.3)\n",
      "Requirement already satisfied: certifi>=2017.4.17 in c:\\users\\human\\anaconda3\\lib\\site-packages (from requests<3,>=2.21.0->tensorflow-intel==2.18.0->tensorflow<2.19,>=2.18->tf-keras) (2025.1.31)\n",
      "Requirement already satisfied: markdown>=2.6.8 in c:\\users\\human\\anaconda3\\lib\\site-packages (from tensorboard<2.19,>=2.18->tensorflow-intel==2.18.0->tensorflow<2.19,>=2.18->tf-keras) (3.4.1)\n",
      "Requirement already satisfied: tensorboard-data-server<0.8.0,>=0.7.0 in c:\\users\\human\\anaconda3\\lib\\site-packages (from tensorboard<2.19,>=2.18->tensorflow-intel==2.18.0->tensorflow<2.19,>=2.18->tf-keras) (0.7.2)\n",
      "Requirement already satisfied: werkzeug>=1.0.1 in c:\\users\\human\\anaconda3\\lib\\site-packages (from tensorboard<2.19,>=2.18->tensorflow-intel==2.18.0->tensorflow<2.19,>=2.18->tf-keras) (3.0.3)\n",
      "Requirement already satisfied: MarkupSafe>=2.1.1 in c:\\users\\human\\anaconda3\\lib\\site-packages (from werkzeug>=1.0.1->tensorboard<2.19,>=2.18->tensorflow-intel==2.18.0->tensorflow<2.19,>=2.18->tf-keras) (2.1.3)\n",
      "Requirement already satisfied: markdown-it-py>=2.2.0 in c:\\users\\human\\anaconda3\\lib\\site-packages (from rich->keras>=3.5.0->tensorflow-intel==2.18.0->tensorflow<2.19,>=2.18->tf-keras) (2.2.0)\n",
      "Requirement already satisfied: pygments<3.0.0,>=2.13.0 in c:\\users\\human\\anaconda3\\lib\\site-packages (from rich->keras>=3.5.0->tensorflow-intel==2.18.0->tensorflow<2.19,>=2.18->tf-keras) (2.15.1)\n",
      "Requirement already satisfied: mdurl~=0.1 in c:\\users\\human\\anaconda3\\lib\\site-packages (from markdown-it-py>=2.2.0->rich->keras>=3.5.0->tensorflow-intel==2.18.0->tensorflow<2.19,>=2.18->tf-keras) (0.1.0)\n",
      "Downloading tf_keras-2.18.0-py3-none-any.whl (1.7 MB)\n",
      "   ---------------------------------------- 0.0/1.7 MB ? eta -:--:--\n",
      "   ---------------------------------------- 1.7/1.7 MB 11.7 MB/s eta 0:00:00\n",
      "Installing collected packages: tf-keras\n",
      "Successfully installed tf-keras-2.18.0\n",
      "Note: you may need to restart the kernel to use updated packages.\n"
     ]
    }
   ],
   "source": [
    "pip install tf-keras"
   ]
  },
  {
   "cell_type": "code",
   "execution_count": 32,
   "id": "f29a4243",
   "metadata": {},
   "outputs": [
    {
     "name": "stdout",
     "output_type": "stream",
     "text": [
      "Requirement already satisfied: faiss-cpu in c:\\users\\human\\anaconda3\\lib\\site-packages (1.9.0.post1)\n",
      "Collecting faiss-cpu\n",
      "  Using cached faiss_cpu-1.10.0-cp312-cp312-win_amd64.whl.metadata (4.5 kB)\n",
      "Requirement already satisfied: numpy<3.0,>=1.25.0 in c:\\users\\human\\anaconda3\\lib\\site-packages (from faiss-cpu) (1.26.4)\n",
      "Requirement already satisfied: packaging in c:\\users\\human\\anaconda3\\lib\\site-packages (from faiss-cpu) (24.1)\n",
      "Using cached faiss_cpu-1.10.0-cp312-cp312-win_amd64.whl (13.7 MB)\n",
      "Installing collected packages: faiss-cpu\n",
      "  Attempting uninstall: faiss-cpu\n",
      "    Found existing installation: faiss-cpu 1.9.0.post1\n",
      "    Uninstalling faiss-cpu-1.9.0.post1:\n",
      "      Successfully uninstalled faiss-cpu-1.9.0.post1\n",
      "Successfully installed faiss-cpu-1.10.0\n",
      "Note: you may need to restart the kernel to use updated packages.\n"
     ]
    },
    {
     "name": "stderr",
     "output_type": "stream",
     "text": [
      "  WARNING: Failed to remove contents in a temporary directory 'C:\\Users\\human\\anaconda3\\Lib\\site-packages\\~aiss'.\n",
      "  You can safely remove it manually.\n",
      "  WARNING: Failed to remove contents in a temporary directory 'C:\\Users\\human\\anaconda3\\Lib\\site-packages\\~aiss_cpu.libs'.\n",
      "  You can safely remove it manually.\n"
     ]
    }
   ],
   "source": [
    "pip install --upgrade faiss-cpu"
   ]
  },
  {
   "cell_type": "code",
   "execution_count": 36,
   "id": "ebaaa7c8",
   "metadata": {},
   "outputs": [
    {
     "name": "stdout",
     "output_type": "stream",
     "text": [
      "Cos_data vectors in Faiss index: 2722\n",
      "Ingredients vectors in Faiss index: 16266\n"
     ]
    }
   ],
   "source": [
    "# 저장된 벡터 수 확인\n",
    "print(f\"Cos_data vectors in Faiss index: {cos_data_index.ntotal}\")\n",
    "print(f\"Ingredients vectors in Faiss index: {ingredients_index.ntotal}\")\n"
   ]
  },
  {
   "cell_type": "code",
   "execution_count": 37,
   "id": "2b3d1904",
   "metadata": {},
   "outputs": [
    {
     "name": "stdout",
     "output_type": "stream",
     "text": [
      "Reconstructed vector for cos_data index ID 0: [ 0.34808367  0.46795255 -0.06459752 -0.15207285 -0.05138457  0.5375501\n",
      "  1.074634   -0.07376555  0.03071387 -0.43625802  0.2292424  -1.3360444\n",
      "  0.09712178  0.25334263  0.15351287 -0.1584728   0.04953288  0.3238875\n",
      " -0.9024793  -0.10171701  0.42509252 -0.10052346  0.28403863 -0.03493496\n",
      "  0.08126442  0.22435042  0.37027866  0.40414286 -0.38898867  0.5258173\n",
      "  0.6005467  -0.13625804  0.16302729 -0.06867775  0.2947256   0.38960212\n",
      " -0.72650373  0.33681256  0.07261895 -0.15370461  0.08494292 -0.09262999\n",
      "  0.36551923  0.5939513   0.30152515  0.50691056 -0.11531631 -0.510573\n",
      "  0.24038863 -0.1983678  -0.61038744 -0.3810397   0.52175444 -0.46477574\n",
      "  0.08679481 -0.6766621   0.36080217  0.81830806 -0.06951387  0.21309797\n",
      " -0.668725    0.41471285 -1.0215709   0.42830634 -0.20923916 -0.00361649\n",
      " -0.2095987   0.1886924   0.11303499 -0.46017462  0.506822    0.37505364\n",
      " -0.31832513  0.17145486 -0.6420061  -0.69303197  0.44187862 -0.03136331\n",
      "  0.02407131  0.36386102 -0.34048644 -0.587376   -0.31013304 -0.07110262\n",
      "  0.01843615  0.1790268   0.16356388  0.15962073  0.0664302  -0.65230465\n",
      " -0.13902251  0.6727985   0.13218382 -0.14541128  0.03639251  0.2095762\n",
      "  0.03827434 -0.4187428  -0.54719436 -0.01153594 -0.13210352  0.24288455\n",
      " -0.06993232  0.7511567  -0.45793766 -0.5399742   0.14759792 -0.3182138\n",
      " -0.1531043   0.44012594 -0.34827954 -0.3888089  -0.385624    0.25322223\n",
      " -0.2050055  -0.23349066 -0.04538993  0.09495459 -0.03380638 -0.31334877\n",
      " -0.01981061  0.20215273 -0.42920455 -0.03917737 -0.57077634  0.12110291\n",
      "  0.03891236  0.6893586   0.00518803 -0.2759098  -0.55777836 -0.59445983\n",
      "  0.2638051   0.33609694 -0.10695782 -0.3869466   0.3709148  -0.07670711\n",
      "  0.10771181  0.23976347 -0.29903716  0.38295877 -0.22834721 -0.08813287\n",
      "  0.47580177  0.310433   -0.05557619  0.02844426  0.27596492  0.89055216\n",
      "  0.066393   -0.56307113  0.3236621  -0.1852965   0.5945702  -0.5890988\n",
      "  0.01350917  0.5477925   0.30999747  0.44907865 -0.153002    0.04600393\n",
      "  0.31782064  0.7055088  -0.18499729  0.06164943 -0.49919072 -0.45362958\n",
      "  0.05611085  0.2776586  -0.3155999   0.36704808  0.25672406  0.2567821\n",
      " -0.6449664  -0.32952717 -0.35969096  0.31665057  0.1130378   0.03684068\n",
      "  0.02569495 -0.01306136 -0.29853415 -0.44680032  0.04948705  0.15464437\n",
      " -0.40679255  0.56606257 -0.40516987 -1.0304136  -1.092557   -0.30871993\n",
      " -0.04011934 -0.40070468  0.0117616   0.17895007 -0.05150719 -0.18957177\n",
      "  0.39187795 -0.21567388  0.09846339 -0.00403708 -0.08995805 -0.6309284\n",
      " -0.14063372 -0.29177213  0.4032351  -0.7051075  -0.1797716   0.7039317\n",
      " -0.3299775   0.01327299 -0.17962578  0.28476614  0.28432733  0.07337196\n",
      "  0.44135553  0.30885166 -1.14384     0.28566688  0.13454242 -0.8599022\n",
      "  0.4744718  -0.8600849  -0.1284004  -0.14666966 -0.48837167  0.23055294\n",
      "  0.3668372  -0.20609006 -0.44068757  0.51419556  0.5606109   0.11660929\n",
      " -0.07099833 -0.37079746  0.44567522 -0.13581064  0.11461053 -0.13407484\n",
      "  0.7201019   0.70026416 -0.15062353  0.3340762  -0.28501758  0.32482362\n",
      " -0.36805958  0.39735705 -0.23217106  0.18391699  0.76541036  0.65364546\n",
      " -0.6920099   0.29178718  0.0723175  -0.40401888 -0.62668294 -0.0724505\n",
      " -0.17292796 -0.49683356  0.03739246 -0.24942999 -0.03719671 -0.31215045\n",
      "  0.2521848   0.13272512  0.11294403  1.0131559  -0.12127206 -0.5849033\n",
      " -0.4044207   0.0846556   0.05051215 -0.32713088 -0.07117305 -0.2465382\n",
      "  0.29840478  0.06210769 -0.15892461  0.58015126  0.07937516 -0.8613432\n",
      " -0.091253    0.4451688   0.05059087 -0.11525085  0.23332909  0.29666334\n",
      " -0.16522598  0.36866722 -0.04124169  0.30093914 -0.04011602 -0.5765253\n",
      "  0.38333827  0.13485968 -0.6269288   0.021117    0.0220057   0.5259541\n",
      "  0.01286567  0.22962289  0.23207584 -0.24879912  0.05702155 -0.20852692\n",
      " -0.09256461  0.11940855  0.42921782 -0.5538271  -0.28261653 -0.6686965\n",
      "  0.64261305  0.06081418 -0.21399355  0.42695928 -0.51502734 -0.13660128\n",
      " -0.04569102  0.26874202 -0.29407868 -0.21948281  0.3093519  -0.19076973\n",
      " -0.07363445  0.21045189  0.07202254 -0.49410027  0.15104756  0.09664668\n",
      "  0.07718298 -0.2655412  -0.27910942 -0.04923108  0.45476216  0.3941534\n",
      "  0.46651006 -0.18878178 -0.70783985 -0.38117355 -0.24925032 -0.38038984\n",
      " -0.02601377  0.5482451  -0.06278928 -0.25480694  0.48080596  0.07220162\n",
      " -0.23264492  0.3876975  -0.18364237  0.7433597   0.519036    0.02522489\n",
      " -0.35057798  0.18167263  0.03565091 -0.02109339  0.25567493 -0.26964766\n",
      "  0.15827358 -0.34182978  0.69424367  1.497543   -0.0323332  -0.1107115\n",
      "  0.5312719  -0.34817854 -0.16249514  0.26274586 -0.19860299  0.2548055\n",
      "  0.33340645  0.25872922  0.07649652  0.03431971  0.00226822  0.25818118\n",
      " -0.75888497  0.0930676   0.95514286 -0.6131803   0.77795696  0.76896286]\n"
     ]
    }
   ],
   "source": [
    "# 첫 번째 벡터 복원 (cos_data_index)\n",
    "vector_id = 0\n",
    "vector = cos_data_index.reconstruct(vector_id)\n",
    "print(f\"Reconstructed vector for cos_data index ID {vector_id}: {vector}\")\n"
   ]
  },
  {
   "cell_type": "code",
   "execution_count": 38,
   "id": "4e29261e",
   "metadata": {},
   "outputs": [
    {
     "name": "stdout",
     "output_type": "stream",
     "text": [
      "Indices of similar vectors: [[2045 1497  132  152  163]]\n",
      "Distances of similar vectors: [[163.62863 166.66516 167.78058 168.86134 168.97324]]\n"
     ]
    }
   ],
   "source": [
    "import numpy as np\n",
    "\n",
    "# 예시로 쿼리 벡터 생성 (실제 사용할 벡터로 바꿔야 함)\n",
    "query_vector = np.random.rand(1, cos_data_dimension).astype('float32')\n",
    "\n",
    "# 가장 유사한 5개의 벡터를 검색 (k는 검색할 벡터의 개수)\n",
    "k = 5\n",
    "distances, indices = cos_data_index.search(query_vector, k)\n",
    "\n",
    "# 유사한 벡터들의 인덱스와 거리 출력\n",
    "print(f\"Indices of similar vectors: {indices}\")\n",
    "print(f\"Distances of similar vectors: {distances}\")\n"
   ]
  },
  {
   "cell_type": "code",
   "execution_count": 40,
   "id": "ab7d9ca9",
   "metadata": {},
   "outputs": [
    {
     "ename": "AttributeError",
     "evalue": "'str' object has no attribute 'shape'",
     "output_type": "error",
     "traceback": [
      "\u001b[1;31m---------------------------------------------------------------------------\u001b[0m",
      "\u001b[1;31mAttributeError\u001b[0m                            Traceback (most recent call last)",
      "Cell \u001b[1;32mIn[40], line 3\u001b[0m\n\u001b[0;32m      1\u001b[0m k \u001b[38;5;241m=\u001b[39m \u001b[38;5;241m5\u001b[39m\n\u001b[0;32m      2\u001b[0m query_vector \u001b[38;5;241m=\u001b[39m \u001b[38;5;124m\"\u001b[39m\u001b[38;5;124m정제수\u001b[39m\u001b[38;5;124m\"\u001b[39m\n\u001b[1;32m----> 3\u001b[0m distances, indices \u001b[38;5;241m=\u001b[39m cos_data_index\u001b[38;5;241m.\u001b[39msearch(query_vector, k)\n\u001b[0;32m      4\u001b[0m distances, indices\n",
      "File \u001b[1;32mc:\\Users\\human\\anaconda3\\Lib\\site-packages\\faiss\\class_wrappers.py:327\u001b[0m, in \u001b[0;36mhandle_Index.<locals>.replacement_search\u001b[1;34m(self, x, k, params, D, I)\u001b[0m\n\u001b[0;32m    300\u001b[0m \u001b[38;5;28;01mdef\u001b[39;00m \u001b[38;5;21mreplacement_search\u001b[39m(\u001b[38;5;28mself\u001b[39m, x, k, \u001b[38;5;241m*\u001b[39m, params\u001b[38;5;241m=\u001b[39m\u001b[38;5;28;01mNone\u001b[39;00m, D\u001b[38;5;241m=\u001b[39m\u001b[38;5;28;01mNone\u001b[39;00m, I\u001b[38;5;241m=\u001b[39m\u001b[38;5;28;01mNone\u001b[39;00m):\n\u001b[0;32m    301\u001b[0m \u001b[38;5;250m    \u001b[39m\u001b[38;5;124;03m\"\"\"Find the k nearest neighbors of the set of vectors x in the index.\u001b[39;00m\n\u001b[0;32m    302\u001b[0m \n\u001b[0;32m    303\u001b[0m \u001b[38;5;124;03m    Parameters\u001b[39;00m\n\u001b[1;32m   (...)\u001b[0m\n\u001b[0;32m    324\u001b[0m \u001b[38;5;124;03m        When not enough results are found, the label is set to -1\u001b[39;00m\n\u001b[0;32m    325\u001b[0m \u001b[38;5;124;03m    \"\"\"\u001b[39;00m\n\u001b[1;32m--> 327\u001b[0m     n, d \u001b[38;5;241m=\u001b[39m x\u001b[38;5;241m.\u001b[39mshape\n\u001b[0;32m    328\u001b[0m     x \u001b[38;5;241m=\u001b[39m np\u001b[38;5;241m.\u001b[39mascontiguousarray(x, dtype\u001b[38;5;241m=\u001b[39m\u001b[38;5;124m'\u001b[39m\u001b[38;5;124mfloat32\u001b[39m\u001b[38;5;124m'\u001b[39m)\n\u001b[0;32m    329\u001b[0m     \u001b[38;5;28;01massert\u001b[39;00m d \u001b[38;5;241m==\u001b[39m \u001b[38;5;28mself\u001b[39m\u001b[38;5;241m.\u001b[39md\n",
      "\u001b[1;31mAttributeError\u001b[0m: 'str' object has no attribute 'shape'"
     ]
    }
   ],
   "source": [
    "k = 5\n",
    "query = \"정제수\"\n",
    "query_vector = model.encode([query])\n",
    "\n",
    "top_k = cos_data_index.search(query_vector, k)\n",
    "\n",
    "[data[_id] for _id in top_k[1].tolist()[0]]\n",
    "\n",
    "\n"
   ]
  },
  {
   "cell_type": "code",
   "execution_count": 39,
   "id": "2cc15584",
   "metadata": {},
   "outputs": [
    {
     "name": "stdout",
     "output_type": "stream",
     "text": [
      "Product for ID 0: [홀리데이 에디션] 콜라겐 채움 패드 100매\n"
     ]
    }
   ],
   "source": [
    "# 예시: 각 벡터에 대해 제품명 리스트 (cos_data_df에서 추출)\n",
    "product_names = cos_data_df['product_name'].dropna().tolist()\n",
    "\n",
    "# 첫 번째 벡터의 ID에 해당하는 제품명 출력\n",
    "product_id = 0\n",
    "print(f\"Product for ID {product_id}: {product_names[product_id]}\")\n"
   ]
  }
 ],
 "metadata": {
  "kernelspec": {
   "display_name": "base",
   "language": "python",
   "name": "python3"
  },
  "language_info": {
   "codemirror_mode": {
    "name": "ipython",
    "version": 3
   },
   "file_extension": ".py",
   "mimetype": "text/x-python",
   "name": "python",
   "nbconvert_exporter": "python",
   "pygments_lexer": "ipython3",
   "version": "3.12.3"
  }
 },
 "nbformat": 4,
 "nbformat_minor": 5
}
